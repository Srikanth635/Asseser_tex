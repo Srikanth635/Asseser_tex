{
 "cells": [
  {
   "metadata": {
    "ExecuteTime": {
     "end_time": "2025-01-22T13:52:05.634838Z",
     "start_time": "2025-01-22T13:52:05.625782Z"
    }
   },
   "cell_type": "code",
   "source": [
    "import getpass\n",
    "import os\n",
    "import dotenv\n",
    "dotenv.load_dotenv()\n",
    "\n",
    "# if not os.environ.get(\"OPENAI_API_KEY\"):\n",
    "#   os.environ[\"OPENAI_API_KEY\"] = getpass.getpass(\"Enter API key for OpenAI: \")\n",
    "\n",
    "OPENAI_API_KEY = os.getenv(\"OPENAI_API_KEY\")\n",
    "\n",
    "from langchain_openai import ChatOpenAI\n",
    "\n",
    "llm = ChatOpenAI(model=\"gpt-4o-mini\",openai_api_key=OPENAI_API_KEY)"
   ],
   "id": "899b4a43fb83b7b3",
   "outputs": [],
   "execution_count": 9
  },
  {
   "cell_type": "code",
   "id": "initial_id",
   "metadata": {
    "collapsed": true,
    "ExecuteTime": {
     "end_time": "2025-01-22T15:15:13.789373Z",
     "start_time": "2025-01-22T15:15:13.787475Z"
    }
   },
   "source": [
    "from langchain_core.messages import HumanMessage\n",
    "from langchain.memory import ConversationSummaryMemory, ConversationBufferMemory\n",
    "from langgraph.graph import START, MessagesState, StateGraph"
   ],
   "outputs": [],
   "execution_count": 15
  },
  {
   "metadata": {
    "ExecuteTime": {
     "end_time": "2025-01-22T15:15:14.146802Z",
     "start_time": "2025-01-22T15:15:14.144690Z"
    }
   },
   "cell_type": "code",
   "source": "workflow = StateGraph(state_schema=MessagesState)",
   "id": "fd5b691679032680",
   "outputs": [],
   "execution_count": 16
  },
  {
   "metadata": {
    "ExecuteTime": {
     "end_time": "2025-01-22T15:15:14.324972Z",
     "start_time": "2025-01-22T15:15:14.322899Z"
    }
   },
   "cell_type": "code",
   "source": [
    "def call_model(state: MessagesState):\n",
    "    response = llm.invoke(state['messages'])\n",
    "    return {'messages': response}"
   ],
   "id": "190384fd748ba121",
   "outputs": [],
   "execution_count": 17
  },
  {
   "metadata": {
    "ExecuteTime": {
     "end_time": "2025-01-22T15:15:14.471089Z",
     "start_time": "2025-01-22T15:15:14.468347Z"
    }
   },
   "cell_type": "code",
   "source": [
    "workflow.add_edge(START, 'model')\n",
    "workflow.add_node('model', call_model)"
   ],
   "id": "87b0ec2b64432c68",
   "outputs": [
    {
     "data": {
      "text/plain": [
       "<langgraph.graph.state.StateGraph at 0x7f30d080f340>"
      ]
     },
     "execution_count": 18,
     "metadata": {},
     "output_type": "execute_result"
    }
   ],
   "execution_count": 18
  },
  {
   "metadata": {},
   "cell_type": "code",
   "outputs": [],
   "execution_count": null,
   "source": [
    "memory = ConversationBufferMemory()\n",
    "app = workflow.compile(checkpointer=memory)"
   ],
   "id": "7bb5dcf76d87db53"
  },
  {
   "metadata": {
    "ExecuteTime": {
     "end_time": "2025-01-22T15:40:53.103057Z",
     "start_time": "2025-01-22T15:40:53.079527Z"
    }
   },
   "cell_type": "code",
   "source": [
    "from langchain.agents import load_tools, initialize_agent, AgentType\n",
    "from langchain.chains import LLMMathChain\n",
    "from langchain_community.tools import WikipediaQueryRun\n",
    "from langchain_community.utilities import WikipediaAPIWrapper\n",
    "\n",
    "wikipedia = WikipediaQueryRun(api_wrapper=WikipediaAPIWrapper())\n",
    "\n",
    "llm_math = LLMMathChain.from_llm(llm=llm, verbose=True)\n",
    "\n",
    "tools = load_tools([\"wikipedia\", \"llm-math\"], llm=llm)\n",
    "\n",
    "agent = initialize_agent(\n",
    "    tools,\n",
    "    llm,\n",
    "    agent=AgentType.ZERO_SHOT_REACT_DESCRIPTION,\n",
    "    verbose=True\n",
    ")\n",
    "\n",
    "result = agent.run(\"What is the square root of the year Plato was born?\")\n",
    "print(result)"
   ],
   "id": "7ea84650eb93788d",
   "outputs": [
    {
     "ename": "PydanticUserError",
     "evalue": "`LLMMathChain` is not fully defined; you should define `BaseCache`, then call `LLMMathChain.model_rebuild()`.\n\nFor further information visit https://errors.pydantic.dev/2.10/u/class-not-fully-defined",
     "output_type": "error",
     "traceback": [
      "\u001B[0;31m---------------------------------------------------------------------------\u001B[0m",
      "\u001B[0;31mPydanticUserError\u001B[0m                         Traceback (most recent call last)",
      "Cell \u001B[0;32mIn[26], line 8\u001B[0m\n\u001B[1;32m      4\u001B[0m \u001B[38;5;28;01mfrom\u001B[39;00m\u001B[38;5;250m \u001B[39m\u001B[38;5;21;01mlangchain_community\u001B[39;00m\u001B[38;5;21;01m.\u001B[39;00m\u001B[38;5;21;01mutilities\u001B[39;00m\u001B[38;5;250m \u001B[39m\u001B[38;5;28;01mimport\u001B[39;00m WikipediaAPIWrapper\n\u001B[1;32m      6\u001B[0m wikipedia \u001B[38;5;241m=\u001B[39m WikipediaQueryRun(api_wrapper\u001B[38;5;241m=\u001B[39mWikipediaAPIWrapper())\n\u001B[0;32m----> 8\u001B[0m llm_math \u001B[38;5;241m=\u001B[39m \u001B[43mLLMMathChain\u001B[49m\u001B[38;5;241;43m.\u001B[39;49m\u001B[43mfrom_llm\u001B[49m\u001B[43m(\u001B[49m\u001B[43mllm\u001B[49m\u001B[38;5;241;43m=\u001B[39;49m\u001B[43mllm\u001B[49m\u001B[43m,\u001B[49m\u001B[43m \u001B[49m\u001B[43mverbose\u001B[49m\u001B[38;5;241;43m=\u001B[39;49m\u001B[38;5;28;43;01mTrue\u001B[39;49;00m\u001B[43m)\u001B[49m\n\u001B[1;32m     10\u001B[0m tools \u001B[38;5;241m=\u001B[39m load_tools([\u001B[38;5;124m\"\u001B[39m\u001B[38;5;124mwikipedia\u001B[39m\u001B[38;5;124m\"\u001B[39m, \u001B[38;5;124m\"\u001B[39m\u001B[38;5;124mllm-math\u001B[39m\u001B[38;5;124m\"\u001B[39m], llm\u001B[38;5;241m=\u001B[39mllm)\n\u001B[1;32m     12\u001B[0m agent \u001B[38;5;241m=\u001B[39m initialize_agent(\n\u001B[1;32m     13\u001B[0m     tools,\n\u001B[1;32m     14\u001B[0m     llm,\n\u001B[1;32m     15\u001B[0m     agent\u001B[38;5;241m=\u001B[39mAgentType\u001B[38;5;241m.\u001B[39mZERO_SHOT_REACT_DESCRIPTION,\n\u001B[1;32m     16\u001B[0m     verbose\u001B[38;5;241m=\u001B[39m\u001B[38;5;28;01mTrue\u001B[39;00m\n\u001B[1;32m     17\u001B[0m )\n",
      "File \u001B[0;32m~/envs/langchain/lib/python3.10/site-packages/langchain/chains/llm_math/base.py:304\u001B[0m, in \u001B[0;36mLLMMathChain.from_llm\u001B[0;34m(cls, llm, prompt, **kwargs)\u001B[0m\n\u001B[1;32m    296\u001B[0m \u001B[38;5;129m@classmethod\u001B[39m\n\u001B[1;32m    297\u001B[0m \u001B[38;5;28;01mdef\u001B[39;00m\u001B[38;5;250m \u001B[39m\u001B[38;5;21mfrom_llm\u001B[39m(\n\u001B[1;32m    298\u001B[0m     \u001B[38;5;28mcls\u001B[39m,\n\u001B[0;32m   (...)\u001B[0m\n\u001B[1;32m    301\u001B[0m     \u001B[38;5;241m*\u001B[39m\u001B[38;5;241m*\u001B[39mkwargs: Any,\n\u001B[1;32m    302\u001B[0m ) \u001B[38;5;241m-\u001B[39m\u001B[38;5;241m>\u001B[39m LLMMathChain:\n\u001B[1;32m    303\u001B[0m     llm_chain \u001B[38;5;241m=\u001B[39m LLMChain(llm\u001B[38;5;241m=\u001B[39mllm, prompt\u001B[38;5;241m=\u001B[39mprompt)\n\u001B[0;32m--> 304\u001B[0m     \u001B[38;5;28;01mreturn\u001B[39;00m \u001B[38;5;28;43mcls\u001B[39;49m\u001B[43m(\u001B[49m\u001B[43mllm_chain\u001B[49m\u001B[38;5;241;43m=\u001B[39;49m\u001B[43mllm_chain\u001B[49m\u001B[43m,\u001B[49m\u001B[43m \u001B[49m\u001B[38;5;241;43m*\u001B[39;49m\u001B[38;5;241;43m*\u001B[39;49m\u001B[43mkwargs\u001B[49m\u001B[43m)\u001B[49m\n",
      "File \u001B[0;32m~/envs/langchain/lib/python3.10/site-packages/langchain_core/_api/deprecation.py:216\u001B[0m, in \u001B[0;36mdeprecated.<locals>.deprecate.<locals>.finalize.<locals>.warn_if_direct_instance\u001B[0;34m(self, *args, **kwargs)\u001B[0m\n\u001B[1;32m    214\u001B[0m     warned \u001B[38;5;241m=\u001B[39m \u001B[38;5;28;01mTrue\u001B[39;00m\n\u001B[1;32m    215\u001B[0m     emit_warning()\n\u001B[0;32m--> 216\u001B[0m \u001B[38;5;28;01mreturn\u001B[39;00m \u001B[43mwrapped\u001B[49m\u001B[43m(\u001B[49m\u001B[38;5;28;43mself\u001B[39;49m\u001B[43m,\u001B[49m\u001B[43m \u001B[49m\u001B[38;5;241;43m*\u001B[39;49m\u001B[43margs\u001B[49m\u001B[43m,\u001B[49m\u001B[43m \u001B[49m\u001B[38;5;241;43m*\u001B[39;49m\u001B[38;5;241;43m*\u001B[39;49m\u001B[43mkwargs\u001B[49m\u001B[43m)\u001B[49m\n",
      "File \u001B[0;32m~/envs/langchain/lib/python3.10/site-packages/langchain_core/load/serializable.py:125\u001B[0m, in \u001B[0;36mSerializable.__init__\u001B[0;34m(self, *args, **kwargs)\u001B[0m\n\u001B[1;32m    123\u001B[0m \u001B[38;5;28;01mdef\u001B[39;00m\u001B[38;5;250m \u001B[39m\u001B[38;5;21m__init__\u001B[39m(\u001B[38;5;28mself\u001B[39m, \u001B[38;5;241m*\u001B[39margs: Any, \u001B[38;5;241m*\u001B[39m\u001B[38;5;241m*\u001B[39mkwargs: Any) \u001B[38;5;241m-\u001B[39m\u001B[38;5;241m>\u001B[39m \u001B[38;5;28;01mNone\u001B[39;00m:\n\u001B[1;32m    124\u001B[0m \u001B[38;5;250m    \u001B[39m\u001B[38;5;124;03m\"\"\"\"\"\"\u001B[39;00m\n\u001B[0;32m--> 125\u001B[0m     \u001B[38;5;28;43msuper\u001B[39;49m\u001B[43m(\u001B[49m\u001B[43m)\u001B[49m\u001B[38;5;241;43m.\u001B[39;49m\u001B[38;5;21;43m__init__\u001B[39;49m\u001B[43m(\u001B[49m\u001B[38;5;241;43m*\u001B[39;49m\u001B[43margs\u001B[49m\u001B[43m,\u001B[49m\u001B[43m \u001B[49m\u001B[38;5;241;43m*\u001B[39;49m\u001B[38;5;241;43m*\u001B[39;49m\u001B[43mkwargs\u001B[49m\u001B[43m)\u001B[49m\n",
      "    \u001B[0;31m[... skipping hidden 1 frame]\u001B[0m\n",
      "File \u001B[0;32m~/envs/langchain/lib/python3.10/site-packages/pydantic/_internal/_mock_val_ser.py:100\u001B[0m, in \u001B[0;36mMockValSer.__getattr__\u001B[0;34m(self, item)\u001B[0m\n\u001B[1;32m     98\u001B[0m \u001B[38;5;66;03m# raise an AttributeError if `item` doesn't exist\u001B[39;00m\n\u001B[1;32m     99\u001B[0m \u001B[38;5;28mgetattr\u001B[39m(\u001B[38;5;28mself\u001B[39m\u001B[38;5;241m.\u001B[39m_val_or_ser, item)\n\u001B[0;32m--> 100\u001B[0m \u001B[38;5;28;01mraise\u001B[39;00m PydanticUserError(\u001B[38;5;28mself\u001B[39m\u001B[38;5;241m.\u001B[39m_error_message, code\u001B[38;5;241m=\u001B[39m\u001B[38;5;28mself\u001B[39m\u001B[38;5;241m.\u001B[39m_code)\n",
      "\u001B[0;31mPydanticUserError\u001B[0m: `LLMMathChain` is not fully defined; you should define `BaseCache`, then call `LLMMathChain.model_rebuild()`.\n\nFor further information visit https://errors.pydantic.dev/2.10/u/class-not-fully-defined"
     ]
    }
   ],
   "execution_count": 26
  }
 ],
 "metadata": {
  "kernelspec": {
   "display_name": "Python 3",
   "language": "python",
   "name": "python3"
  },
  "language_info": {
   "codemirror_mode": {
    "name": "ipython",
    "version": 2
   },
   "file_extension": ".py",
   "mimetype": "text/x-python",
   "name": "python",
   "nbconvert_exporter": "python",
   "pygments_lexer": "ipython2",
   "version": "2.7.6"
  }
 },
 "nbformat": 4,
 "nbformat_minor": 5
}
