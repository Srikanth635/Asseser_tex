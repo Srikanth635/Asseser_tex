{
 "cells": [
  {
   "metadata": {},
   "cell_type": "markdown",
   "source": "#### Importing code file",
   "id": "7e68a76d3cf08318"
  },
  {
   "cell_type": "code",
   "id": "initial_id",
   "metadata": {
    "collapsed": true,
    "ExecuteTime": {
     "end_time": "2025-01-21T10:29:25.595141Z",
     "start_time": "2025-01-21T10:29:25.592458Z"
    }
   },
   "source": [
    "from assess_pdf import *\n",
    "print(f\"root directory is {root}\")\n",
    "print(f\"input pdf file directory is {pdf_path}\")\n",
    "print(f\"criteria's file directory is {criteria_path}\")"
   ],
   "outputs": [
    {
     "name": "stdout",
     "output_type": "stream",
     "text": [
      "root directory is /home/malineni/VC_Pools/Asseser_tex\n",
      "input pdf file directory is /home/malineni/VC_Pools/Asseser_tex/files/report.pdf\n",
      "criteria's file directory is /home/malineni/VC_Pools/Asseser_tex/src/Asseser_GPT/criteria\n"
     ]
    }
   ],
   "execution_count": 10
  },
  {
   "metadata": {},
   "cell_type": "markdown",
   "source": "#### Input - Criteria (file_name)",
   "id": "dd2d85281c40b823"
  },
  {
   "metadata": {
    "ExecuteTime": {
     "end_time": "2025-01-21T10:29:26.999767Z",
     "start_time": "2025-01-21T10:29:26.998056Z"
    }
   },
   "cell_type": "code",
   "source": "file_name = \"criteria3.txt\"",
   "id": "f988f8130370beed",
   "outputs": [],
   "execution_count": 11
  },
  {
   "metadata": {},
   "cell_type": "markdown",
   "source": "#### Parsing criteria file into Objective and Output Requirements",
   "id": "76587eedf713950a"
  },
  {
   "metadata": {
    "ExecuteTime": {
     "end_time": "2025-01-21T10:29:44.040209Z",
     "start_time": "2025-01-21T10:29:44.038015Z"
    }
   },
   "cell_type": "code",
   "source": [
    "with open(os.path.join(criteria_path,file_name), 'r') as f:\n",
    "    criteria = f.read()\n",
    "\n",
    "parts = re.split(r\"### \\*\\*Output Requirements\\*\\*\", criteria)\n",
    "objective_and_tasks = parts[0].strip()\n",
    "output_requirements = parts[1].strip()"
   ],
   "id": "5e36059286f8e8c4",
   "outputs": [],
   "execution_count": 13
  },
  {
   "metadata": {},
   "cell_type": "markdown",
   "source": "#### Setting up build directory and paths",
   "id": "30a9517f8ad80b5f"
  },
  {
   "metadata": {
    "ExecuteTime": {
     "end_time": "2025-01-21T10:29:45.634988Z",
     "start_time": "2025-01-21T10:29:45.632274Z"
    }
   },
   "cell_type": "code",
   "source": [
    "build_path = os.path.join(root, \"src\", \"Asseser_GPT\", \"build\", file_name.split(\".\")[0])\n",
    "try:\n",
    "    os.makedirs(build_path)\n",
    "    print(f\"Directory '{build_path}' created successfully.\")\n",
    "except FileExistsError:\n",
    "    print(f\"Directory '{build_path}' already exists.\")\n",
    "output_path = os.path.join(build_path, \"evaluation_results.tex\")"
   ],
   "id": "6f309b6f62b39364",
   "outputs": [
    {
     "name": "stdout",
     "output_type": "stream",
     "text": [
      "Directory '/home/malineni/VC_Pools/Asseser_tex/src/Asseser_GPT/build/criteria3' created successfully.\n"
     ]
    }
   ],
   "execution_count": 14
  },
  {
   "metadata": {},
   "cell_type": "markdown",
   "source": "#### Evaluating the content",
   "id": "306473c8380fcb11"
  },
  {
   "metadata": {
    "ExecuteTime": {
     "end_time": "2025-01-21T10:31:56.602635Z",
     "start_time": "2025-01-21T10:30:11.549203Z"
    }
   },
   "cell_type": "code",
   "source": "result = evaluate_large_pdf(pdf_path, objective_and_tasks, output_requirements, output_path=output_path)",
   "id": "11bd4ebd0618cfe6",
   "outputs": [
    {
     "name": "stdout",
     "output_type": "stream",
     "text": [
      "Intermediate results saved to /home/malineni/VC_Pools/Asseser_tex/src/Asseser_GPT/build/criteria3/evaluation_results.tex\n"
     ]
    }
   ],
   "execution_count": 15
  },
  {
   "metadata": {},
   "cell_type": "code",
   "outputs": [],
   "execution_count": null,
   "source": "",
   "id": "9c799438affcc252"
  }
 ],
 "metadata": {
  "kernelspec": {
   "display_name": "Python 3",
   "language": "python",
   "name": "python3"
  },
  "language_info": {
   "codemirror_mode": {
    "name": "ipython",
    "version": 2
   },
   "file_extension": ".py",
   "mimetype": "text/x-python",
   "name": "python",
   "nbconvert_exporter": "python",
   "pygments_lexer": "ipython2",
   "version": "2.7.6"
  }
 },
 "nbformat": 4,
 "nbformat_minor": 5
}
